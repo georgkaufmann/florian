{
 "cells": [
  {
   "cell_type": "markdown",
   "metadata": {},
   "source": [
    "# Florian's homework\n",
    "\n",
    "----"
   ]
  },
  {
   "cell_type": "markdown",
   "metadata": {},
   "source": [
    "## Zähle bis zu einer Zahl\n",
    "\n",
    "Wir bauen einen Summenzähler als Funktion. Die Fuktion `summe` nimmt eine ganze Zahl $N$ an, setzt die Summenzahl\n",
    "`sum` auf Null. Dann läuft eine Schleife `for` von Eins bis zur Zahl $N$"
   ]
  },
  {
   "cell_type": "code",
   "execution_count": 14,
   "metadata": {},
   "outputs": [
    {
     "name": "stdout",
     "output_type": "stream",
     "text": [
      "Please enter a number: acht\n",
      "Oops!  That was no valid number.  Try again...\n",
      "Please enter a number: 8\n",
      "Summe von 1 bis  8  ist gleich  36\n"
     ]
    }
   ],
   "source": [
    "while True:\n",
    "    try:\n",
    "        n = int(input(\"Please enter a number: \"))\n",
    "        break\n",
    "    except ValueError:\n",
    "        print(\"Oops!  That was no valid number.  Try again...\")\n",
    "\n",
    "\n",
    "\n",
    "def summe(n):\n",
    "    sum = 0\n",
    "    for i in range(1,n+1):\n",
    "        #print (i)\n",
    "        sum = sum + i\n",
    "    return sum\n",
    "    \n",
    "print ('Summe von 1 bis ',n,' ist gleich ',summe(n))"
   ]
  },
  {
   "cell_type": "markdown",
   "metadata": {},
   "source": [
    "## Suche die Vokale in Wörtern"
   ]
  },
  {
   "cell_type": "code",
   "execution_count": 68,
   "metadata": {},
   "outputs": [
    {
     "name": "stdout",
     "output_type": "stream",
     "text": [
      "Das Wort \"Der\" hat 1 Vokal\n",
      "Das Wort \"Tag\" hat 1 Vokal\n",
      "Das Wort \"nähert\" hat 2 Vokale\n",
      "Das Wort \"sich\" hat 1 Vokal\n",
      "Das Wort \"dem\" hat 1 Vokal\n",
      "Das Wort \"Ende\" hat 2 Vokale\n"
     ]
    }
   ],
   "source": [
    "woerter = ['Der','Tag','nähert','sich','dem','Ende']\n",
    "for i in range(len(woerter)):\n",
    "    wort = woerter[i]\n",
    "    summe_vokale = 0\n",
    "    for j in range(len(wort)):\n",
    "        if (wort[j].lower() == 'a' or \\\n",
    "            wort[j].lower() == 'e' or \\\n",
    "            wort[j].lower() == 'i' or \\\n",
    "            wort[j].lower() == 'o' or \\\n",
    "            wort[j].lower() == 'u' or \\\n",
    "            wort[j].lower() == 'ä' or \\\n",
    "            wort[j].lower() == 'ö' or \\\n",
    "            wort[j].lower() == 'ü'\\\n",
    "           ):\n",
    "            summe_vokale = summe_vokale + 1\n",
    "    if (summe_vokale > 0):\n",
    "        if (summe_vokale == 1):\n",
    "            vokal = ' Vokal'\n",
    "        elif (summe_vokale > 1):\n",
    "            vokal = ' Vokale'\n",
    "        print ((\"%s%s%s%2i%s\") % ('Das Wort \"',wort,'\" hat',summe_vokale,vokal))"
   ]
  },
  {
   "cell_type": "markdown",
   "metadata": {},
   "source": [
    "## Ist ein Wort ein Palindrom?"
   ]
  },
  {
   "cell_type": "code",
   "execution_count": 23,
   "metadata": {},
   "outputs": [],
   "source": [
    "def ist_Palindrom(Wort):\n",
    "    palindrom = True\n",
    "    for i in range(len(Wort)):\n",
    "        if (Wort[i].lower() != Wort[len(Wort)-i-1].lower()):\n",
    "            palindrom = False\n",
    "        #print (i,len(Wort)-i-1,Wort[i].lower(),Wort[len(Wort)-i-1].lower(),palindrom)\n",
    "        if (palindrom == False):\n",
    "            break\n",
    "    return palindrom"
   ]
  },
  {
   "cell_type": "code",
   "execution_count": 25,
   "metadata": {},
   "outputs": [
    {
     "name": "stdout",
     "output_type": "stream",
     "text": [
      "Das Wort \" Rentner \" ist ein Palindrom\n",
      "Das Wort \" Otto \" ist ein Palindrom\n"
     ]
    }
   ],
   "source": [
    "Worte = 'Gerd und der Rentner Otto grüßen Florian'.split()\n",
    "\n",
    "for Word in Worte:\n",
    "    antwort = ist_Palindrom(Word)\n",
    "    if (antwort == True):\n",
    "        print ('Das Wort \"',Word,'\" ist ein Palindrom')"
   ]
  },
  {
   "cell_type": "code",
   "execution_count": null,
   "metadata": {},
   "outputs": [],
   "source": []
  }
 ],
 "metadata": {
  "kernelspec": {
   "display_name": "Python 3",
   "language": "python",
   "name": "python3"
  },
  "language_info": {
   "codemirror_mode": {
    "name": "ipython",
    "version": 3
   },
   "file_extension": ".py",
   "mimetype": "text/x-python",
   "name": "python",
   "nbconvert_exporter": "python",
   "pygments_lexer": "ipython3",
   "version": "3.7.3"
  }
 },
 "nbformat": 4,
 "nbformat_minor": 2
}
